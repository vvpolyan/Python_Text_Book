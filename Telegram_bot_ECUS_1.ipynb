{
 "cells": [
  {
   "cell_type": "code",
   "execution_count": 1,
   "metadata": {},
   "outputs": [],
   "source": [
    "from glob import glob1\n",
    "import logging\n",
    "import random\n",
    "import os\n",
    "from telegram.ext import Updater, CommandHandler, MessageHandler, Filters, RegexHandler\n",
    "from telegram import ReplyKeyboardMarkup, KeyboardButton"
   ]
  },
  {
   "cell_type": "code",
   "execution_count": 2,
   "metadata": {},
   "outputs": [],
   "source": [
    "logging.basicConfig(level=logging.INFO, filename=\"test_bot.log\", format='%(asctime)s - %(levelname)s - %(message)s')"
   ]
  },
  {
   "cell_type": "code",
   "execution_count": 3,
   "metadata": {},
   "outputs": [],
   "source": [
    "def get_keyboard():\n",
    "    reply_keyboard = [['О конкурсе', 'Подать заявку'], ['Защита проекта', 'Призовой фонд'], ['Контакты организаторов']]\n",
    "    return reply_keyboard"
   ]
  },
  {
   "cell_type": "code",
   "execution_count": 4,
   "metadata": {},
   "outputs": [],
   "source": [
    "def get_keyboard_concurs():\n",
    "    reply_keyboard = [['Время и Место', 'Состав команды'], ['Программа', 'Темы', 'В начало']]\n",
    "    return reply_keyboard"
   ]
  },
  {
   "cell_type": "code",
   "execution_count": 5,
   "metadata": {},
   "outputs": [],
   "source": [
    "def get_keyboard_programm():\n",
    "    reply_keyboard = [['1-й день', '2-й день'], ['Назад', 'В начало']]\n",
    "    return reply_keyboard"
   ]
  },
  {
   "cell_type": "code",
   "execution_count": 6,
   "metadata": {},
   "outputs": [],
   "source": [
    "def get_keyboard_comand():\n",
    "    reply_keyboard = [['Капитан'], ['Дизайнер', 'Аналитик'], ['Назад', 'В начало']]\n",
    "    return reply_keyboard"
   ]
  },
  {
   "cell_type": "code",
   "execution_count": 7,
   "metadata": {},
   "outputs": [],
   "source": [
    "def get_keyboard_protection():\n",
    "    reply_keyboard = [['Время на защиту', 'Критерии оценки', 'В начало']]\n",
    "    return reply_keyboard"
   ]
  },
  {
   "cell_type": "code",
   "execution_count": 8,
   "metadata": {},
   "outputs": [],
   "source": [
    "def concurs(bot, update, user_data):\n",
    "    text = \"\"\"\n",
    "\"Импульс изменений\" - это 2 дня работы в командах, которые описывают свою идею по улучшения качества работы сети или продвижения услуг МТС, или оптимизации бизнес-процесса. Рассчитывают экономический эффект, обосновывают эффективность своей идеи и влияние на результаты бизнеса, масштабность. Также команде необходимо рассчитать  окупаемость проекта, если он требует дополнительных затрат.\"\"\"\n",
    "    update.message.reply_text(text, reply_markup=ReplyKeyboardMarkup(get_keyboard_concurs(), resize_keyboard=True))"
   ]
  },
  {
   "cell_type": "code",
   "execution_count": 9,
   "metadata": {},
   "outputs": [],
   "source": [
    "def teams(bot, update, user_data):\n",
    "    text = \"\"\"\n",
    "Можно выбрать любое направление бизнеса:\n",
    "1. Транспорт\n",
    "2. Новые технологии в связи\n",
    "3. IoT для офиса\n",
    "4. Интернет и телевидениe\n",
    "5. Безопасность\n",
    "6. Энергетика\n",
    "7. Финансы\n",
    "8. HR\n",
    "9. Юридическое направление\n",
    "10. Продажи\n",
    "11. Логистика\n",
    "12. Прочее...\n",
    "\"\"\"\n",
    "    update.message.reply_text(text)"
   ]
  },
  {
   "cell_type": "code",
   "execution_count": 10,
   "metadata": {},
   "outputs": [],
   "source": [
    "def data_time(bot, update, user_data):\n",
    "    text = \"\"\"\n",
    "17 - 18 мая 2018 года\n",
    "\n",
    "г. Краснодар, ул. Воровского, д. 118\n",
    "Гранд-отель \"Уют\"\n",
    "https://goo.gl/maps/mCc8otdpiqF2\n",
    "\"\"\"\n",
    "    update.message.reply_text(text)"
   ]
  },
  {
   "cell_type": "code",
   "execution_count": 11,
   "metadata": {},
   "outputs": [],
   "source": [
    "def programm_concurs(bot, update, user_data):\n",
    "    text = \"\"\"\n",
    "Выберите интересующий Вас день на виртуальной клавиатуре\n",
    "\"\"\"\n",
    "    update.message.reply_text(text, reply_markup=ReplyKeyboardMarkup(get_keyboard_programm(), resize_keyboard=True))"
   ]
  },
  {
   "cell_type": "code",
   "execution_count": 12,
   "metadata": {},
   "outputs": [],
   "source": [
    "def day_1(bot, update, user_data):\n",
    "    text = \"\"\"\n",
    "08:00 - 09:00 – Регистрация участников\n",
    "09:00 - 10:00 – Представление команд, формирование команд\n",
    "10:00 - 10:15 – Открытие мероприятия\n",
    "10:15 - 12:00 – Мастер-класс «Навыки презентации», «Как продать свою идею за 5 минут»\n",
    "12:00 - 12:30 – Работа в командах\n",
    "12:30 - 13:30 – Обед\n",
    "13:30 - 15:30 – Работа в командах\n",
    "15:30 - 16:00 – Кофе-брейк\n",
    "16:00 - 19:00 – Работа в командах с экспертами\n",
    "\"\"\"\n",
    "    update.message.reply_text(text)"
   ]
  },
  {
   "cell_type": "code",
   "execution_count": 13,
   "metadata": {},
   "outputs": [],
   "source": [
    "def day_2(bot, update, user_data):\n",
    "    text = \"\"\"\n",
    "08:00 - 08:30 – Регистрация участников\n",
    "08:30 - 12:30 – Работа в командах\n",
    "12:30 - 13:30 – Обед\n",
    "13:30 - 15:30 – Работа в командах.\n",
    "15:00               – Направление презентаций для защиты жюри\n",
    "15:30 – 16:00 – Кофе-брейк\n",
    "16:00 – 18:00 – Защита проектов\n",
    "18:00 – 18:30 – Кофе-пауза\n",
    "18:30 – 19:30 – Награждение участников\n",
    "\"\"\"\n",
    "    update.message.reply_text(text)"
   ]
  },
  {
   "cell_type": "code",
   "execution_count": 14,
   "metadata": {},
   "outputs": [],
   "source": [
    "def squad_list(bot, update, user_data):\n",
    "    text = \"\"\"\n",
    "Максимум 4 человека\n",
    "\"\"\"\n",
    "    update.message.reply_text(text, reply_markup=ReplyKeyboardMarkup(get_keyboard_comand(), resize_keyboard=True))"
   ]
  },
  {
   "cell_type": "code",
   "execution_count": 15,
   "metadata": {},
   "outputs": [],
   "source": [
    "def capitan(bot, update, user_data):\n",
    "    text = \"\"\"\n",
    "Идеолог или специалист по заявленной теме.\n",
    "Этот человек должен обладать экспертизой в указанной тематике, понимать, что происходит сейчас в выбранном направлении, какие есть похожие проекты в компании, в чем их плюсы и минусы.\n",
    "\"\"\"\n",
    "    update.message.reply_text(text)"
   ]
  },
  {
   "cell_type": "code",
   "execution_count": 16,
   "metadata": {},
   "outputs": [],
   "source": [
    "def decorator(bot, update, user_data):\n",
    "    text = \"\"\"\n",
    "Участник команды, который несет ответственность за визуальную составляющую презентации, макетов и прочих материалов.\n",
    "\"\"\"\n",
    "    update.message.reply_text(text)"
   ]
  },
  {
   "cell_type": "code",
   "execution_count": 17,
   "metadata": {},
   "outputs": [],
   "source": [
    "def analitic(bot, update, user_data):\n",
    "    text = \"\"\"\n",
    "Участник команды который отвечает за финансовую или экономическую составляющие, в случае если команда планирует представить бизнес-план проекта.\n",
    "\"\"\"\n",
    "    update.message.reply_text(text)"
   ]
  },
  {
   "cell_type": "code",
   "execution_count": 18,
   "metadata": {},
   "outputs": [],
   "source": [
    "def project_protection(bot, update, user_data):\n",
    "    text = \"\"\"\n",
    "Для защиты каждая команда должна подготовить презентацию, в которой описана проблема, способ ее решения, расчет эффективности и окупаемости проекта, при необходимости, макет или другие демонстрационные материалы.\n",
    "\"\"\"\n",
    "    update.message.reply_text(text, reply_markup=ReplyKeyboardMarkup(get_keyboard_protection(), resize_keyboard=True))"
   ]
  },
  {
   "cell_type": "code",
   "execution_count": 19,
   "metadata": {},
   "outputs": [],
   "source": [
    "def time_defend(bot, update, user_data):\n",
    "    text = \"\"\"\n",
    "не более 5 минут:\n",
    "3 минуты на презентацию и демонстрацию\n",
    "2 минуты на вопросы жюри\n",
    "\"\"\"\n",
    "    update.message.reply_text(text)"
   ]
  },
  {
   "cell_type": "code",
   "execution_count": 20,
   "metadata": {},
   "outputs": [],
   "source": [
    "def assessment(bot, update, user_data):\n",
    "    text = \"\"\"\n",
    "Оценка будет проводится по 5-бальной системе по следующим основным критериям:\n",
    "1. Реалистичность внедрения предложенной идеи в рамках концепции по улучшению качества бизнеса или продвижения услуг;\n",
    "2. Актуальность для бизнеса\n",
    "3. Инновационность и влияние на улучшение бизнеса;\n",
    "4. Окупаемость;\n",
    "5. Простота восприятия и оригинальность оформления презентации.\n",
    "\n",
    "Макеты и бизнес-план проекта желательны, но необязательны.\n",
    "\"\"\"\n",
    "    update.message.reply_text(text)"
   ]
  },
  {
   "cell_type": "code",
   "execution_count": 21,
   "metadata": {},
   "outputs": [],
   "source": [
    "def prize(bot, update, user_data):\n",
    "    text = \"\"\"\n",
    "90000 рублей, который поделят между собой команды - победители.\n",
    "\"\"\"\n",
    "    update.message.reply_text(text)"
   ]
  },
  {
   "cell_type": "code",
   "execution_count": 22,
   "metadata": {},
   "outputs": [],
   "source": [
    "def beginning(bot, update, user_data):\n",
    "    text = \"\"\"\n",
    "Переход в главное меню\n",
    "\"\"\"\n",
    "    update.message.reply_text(text, reply_markup=ReplyKeyboardMarkup(get_keyboard(), resize_keyboard=True))"
   ]
  },
  {
   "cell_type": "code",
   "execution_count": 23,
   "metadata": {},
   "outputs": [],
   "source": [
    "def backward(bot, update, user_data):\n",
    "    text = \"\"\"\n",
    "Переход в меню \"О конкурсе\"\n",
    "\"\"\"\n",
    "    update.message.reply_text(text, reply_markup=ReplyKeyboardMarkup(get_keyboard_concurs(), resize_keyboard=True))"
   ]
  },
  {
   "cell_type": "code",
   "execution_count": 24,
   "metadata": {},
   "outputs": [],
   "source": [
    "def organizer(bot, update, user_data):\n",
    "    text = \"\"\"\n",
    "myakota@kuban.mts.ru\n",
    "Тел.:\n",
    "+79882450410\n",
    "+79183184534\n",
    "+78612460104\n",
    "http://project567703.tilda.ws/\n",
    "\"\"\"\n",
    "    update.message.reply_text(text)"
   ]
  },
  {
   "cell_type": "code",
   "execution_count": 25,
   "metadata": {},
   "outputs": [],
   "source": [
    "def application(bot, update, user_data):\n",
    "    text = \"\"\"\n",
    "Для регистрации используйте пожалуйста ссылку:\n",
    "http://project567703.tilda.ws/#rec46439999\n",
    "\"\"\"\n",
    "    update.message.reply_text(text)"
   ]
  },
  {
   "cell_type": "code",
   "execution_count": 26,
   "metadata": {},
   "outputs": [],
   "source": [
    "def reply_to_start_command(bot, update, user_data):\n",
    "    first_name = update.effective_user.first_name\n",
    "    last_name = update.effective_user.last_name\n",
    "    text = \"\"\"\n",
    "Привет!\n",
    "Я Импульс-бот\n",
    "Я знаю все о Конкурсе Идей 2018 \"Импульс изменений\"\n",
    "Я помогу тебе узнать о нем\n",
    "\"\"\"\n",
    "    logging.info(\"Пользователь {} {} нажал {}\".format(first_name, last_name, \"/start\"))\n",
    "    update.message.reply_text(text, reply_markup=ReplyKeyboardMarkup(get_keyboard(), resize_keyboard=True))"
   ]
  },
  {
   "cell_type": "code",
   "execution_count": 27,
   "metadata": {},
   "outputs": [],
   "source": [
    "def start_bot():\n",
    "    my_bot = Updater('584951981:AAFQdTkSSSqH4QCCF0IprIDHJ0AvKlunJM8')\n",
    "    dp = my_bot.dispatcher\n",
    "\n",
    "    dp.add_handler(CommandHandler(\"start\", reply_to_start_command, pass_user_data=True))\n",
    "\n",
    "    dp.add_handler(CommandHandler(\"О конкурсе\", concurs, pass_user_data=True))\n",
    "    dp.add_handler(RegexHandler(\"^(О конкурсе)$\", concurs, pass_user_data=True))\n",
    "\n",
    "    dp.add_handler(CommandHandler(\"Темы\", teams, pass_user_data=True))\n",
    "    dp.add_handler(RegexHandler(\"^(Темы)$\", teams, pass_user_data=True))\n",
    "\n",
    "    dp.add_handler(CommandHandler(\"Время и Место\", data_time, pass_user_data=True))\n",
    "    dp.add_handler(RegexHandler(\"^(Время и Место)$\", data_time, pass_user_data=True))\n",
    "\n",
    "    dp.add_handler(CommandHandler(\"Программа\", programm_concurs, pass_user_data=True))\n",
    "    dp.add_handler(RegexHandler(\"^(Программа)$\", programm_concurs, pass_user_data=True))\n",
    "\n",
    "    dp.add_handler(CommandHandler(\"1-й день\", day_1, pass_user_data=True))\n",
    "    dp.add_handler(RegexHandler(\"^(1-й день)$\", day_1, pass_user_data=True))\n",
    "\n",
    "    dp.add_handler(CommandHandler(\"2-й день\", day_2, pass_user_data=True))\n",
    "    dp.add_handler(RegexHandler(\"^(2-й день)$\", day_2, pass_user_data=True))\n",
    "\n",
    "    dp.add_handler(CommandHandler(\"Состав команды\", squad_list, pass_user_data=True))\n",
    "    dp.add_handler(RegexHandler(\"^(Состав команды)$\", squad_list, pass_user_data=True))\n",
    "\n",
    "    dp.add_handler(CommandHandler(\"Капитан\", capitan, pass_user_data=True))\n",
    "    dp.add_handler(RegexHandler(\"^(Капитан)$\", capitan, pass_user_data=True))\n",
    "\n",
    "    dp.add_handler(CommandHandler(\"Дизайнер\", decorator, pass_user_data=True))\n",
    "    dp.add_handler(RegexHandler(\"^(Дизайнер)$\", decorator, pass_user_data=True))\n",
    "\n",
    "    dp.add_handler(CommandHandler(\"Аналитик\", analitic, pass_user_data=True))\n",
    "    dp.add_handler(RegexHandler(\"^(Аналитик)$\", analitic, pass_user_data=True))\n",
    "\n",
    "    dp.add_handler(CommandHandler(\"Защита проекта\", project_protection, pass_user_data=True))\n",
    "    dp.add_handler(RegexHandler(\"^(Защита проекта)$\", project_protection, pass_user_data=True))\n",
    "\n",
    "    dp.add_handler(CommandHandler(\"Время на защиту\", time_defend, pass_user_data=True))\n",
    "    dp.add_handler(RegexHandler(\"^(Время на защиту)$\", time_defend, pass_user_data=True))\n",
    "\n",
    "    dp.add_handler(CommandHandler(\"Критерии оценки\", assessment, pass_user_data=True))\n",
    "    dp.add_handler(RegexHandler(\"^(Критерии оценки)$\", assessment, pass_user_data=True))\n",
    "\n",
    "    dp.add_handler(CommandHandler(\"Призовой фонд\", prize, pass_user_data=True))\n",
    "    dp.add_handler(RegexHandler(\"^(Призовой фонд)$\", prize, pass_user_data=True))\n",
    "\n",
    "    dp.add_handler(CommandHandler(\"В начало\", beginning, pass_user_data=True))\n",
    "    dp.add_handler(RegexHandler(\"^(В начало)$\", beginning, pass_user_data=True))\n",
    "\n",
    "    dp.add_handler(CommandHandler(\"Назад\", backward, pass_user_data=True))\n",
    "    dp.add_handler(RegexHandler(\"^(Назад)$\", backward, pass_user_data=True))\n",
    "\n",
    "    dp.add_handler(CommandHandler(\"Контакты организаторов\", organizer, pass_user_data=True))\n",
    "    dp.add_handler(RegexHandler(\"^(Контакты организаторов)$\", organizer, pass_user_data=True))\n",
    "\n",
    "    dp.add_handler(CommandHandler(\"Подать заявку\", application, pass_user_data=True))\n",
    "    dp.add_handler(RegexHandler(\"^(Подать заявку)$\", application, pass_user_data=True))\n",
    "\n",
    "    my_bot.start_polling()\n",
    "    my_bot.idle()"
   ]
  },
  {
   "cell_type": "code",
   "execution_count": null,
   "metadata": {},
   "outputs": [],
   "source": [
    "if __name__ == \"__main__\":\n",
    "    start_bot()"
   ]
  },
  {
   "cell_type": "code",
   "execution_count": null,
   "metadata": {},
   "outputs": [],
   "source": [
    "def start_bot():\n",
    "    my_bot = Updater('584951981:AAFQdTkSSSqH4QCCF0IprIDHJ0AvKlunJM8')\n",
    "    dp = my_bot.dispatcher\n",
    "\n",
    "    dp.add_handler(CommandHandler(\"start\", reply_to_start_command, pass_user_data=True))\n",
    "\n",
    "    dp.add_handler(CommandHandler(\"Инциденты\", incident, pass_user_data=True))\n",
    "    dp.add_handler(RegexHandler(\"^(Инциденты)$\", incident, pass_user_data=True))\n",
    "\n",
    "    dp.add_handler(CommandHandler(\"Приоритет 1-2\", priority_1_2, pass_user_data=True))\n",
    "    dp.add_handler(RegexHandler(\"^(Приоритет 1-2)$\", priority_1_2, pass_user_data=True))\n",
    "\n",
    "    dp.add_handler(CommandHandler(\"Приоритет 3-5\", priority_3_5, pass_user_data=True))\n",
    "    dp.add_handler(RegexHandler(\"^(Приоритет 3-5)$\", priority_3_5, pass_user_data=True))\n",
    "\n",
    "    dp.add_handler(CommandHandler(\"PL_23_0000\", PL_23_0000, pass_user_data=True))\n",
    "    dp.add_handler(RegexHandler(\"^(PL_23_0000)$\", PL_23_0000, pass_user_data=True))\n",
    "\n",
    "    dp.add_handler(CommandHandler(\"PL_23_0001\", PL_23_0001, pass_user_data=True))\n",
    "    dp.add_handler(RegexHandler(\"^(PL_23_0001)$\", PL_23_0001, pass_user_data=True))\n",
    "\n",
    "    dp.add_handler(CommandHandler(\"PL_23_0002\", PL_23_0002, pass_user_data=True))\n",
    "    dp.add_handler(RegexHandler(\"^(PL_23_0002)$\", PL_23_0002, pass_user_data=True))\n",
    "\n",
    "    dp.add_handler(CommandHandler(\"PL_23_0003\", PL_23_0003, pass_user_data=True))\n",
    "    dp.add_handler(RegexHandler(\"^(PL_23_0003)$\", PL_23_0003, pass_user_data=True))\n",
    "\n",
    "    dp.add_handler(CommandHandler(\"PL_23_0004\", PL_23_0004, pass_user_data=True))\n",
    "    dp.add_handler(RegexHandler(\"^(PL_23_0004)$\", PL_23_0004, pass_user_data=True))\n",
    "\n",
    "    dp.add_handler(CommandHandler(\"PL_23_0005\", PL_23_0005, pass_user_data=True))\n",
    "    dp.add_handler(RegexHandler(\"^(PL_23_0005)$\", PL_23_0005, pass_user_data=True))\n",
    "\n",
    "    dp.add_handler(CommandHandler(\"PL_23_0006\", PL_23_0006, pass_user_data=True))\n",
    "    dp.add_handler(RegexHandler(\"^(PL_23_0006)$\", PL_23_0006, pass_user_data=True))\n",
    "\n",
    "    dp.add_handler(CommandHandler(\"PL_23_0007\", PL_23_0007, pass_user_data=True))\n",
    "    dp.add_handler(RegexHandler(\"^(PL_23_0007)$\", PL_23_0007, pass_user_data=True))\n",
    "    \n",
    "    dp.add_handler(CommandHandler(\"Маршрут к PL_23_0000\", PL_23_0000_trec, pass_user_data=True))\n",
    "    dp.add_handler(RegexHandler(\"^(Маршрут к PL_23_0000)$\", PL_23_0000_trec, pass_user_data=True))\n",
    "    \n",
    "    dp.add_handler(CommandHandler(\"В начало\", reply_to_start_command, pass_user_data=True))\n",
    "    dp.add_handler(RegexHandler(\"^(В начало)$\", reply_to_start_command, pass_user_data=True))\n",
    "\n",
    "    my_bot.start_polling()\n",
    "    my_bot.idle()"
   ]
  }
 ],
 "metadata": {
  "kernelspec": {
   "display_name": "Python 3",
   "language": "python",
   "name": "python3"
  },
  "language_info": {
   "codemirror_mode": {
    "name": "ipython",
    "version": 3
   },
   "file_extension": ".py",
   "mimetype": "text/x-python",
   "name": "python",
   "nbconvert_exporter": "python",
   "pygments_lexer": "ipython3",
   "version": "3.6.4"
  }
 },
 "nbformat": 4,
 "nbformat_minor": 2
}
