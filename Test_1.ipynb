{
 "cells": [
  {
   "cell_type": "code",
   "execution_count": 15,
   "metadata": {},
   "outputs": [],
   "source": [
    "from glob import glob1\n",
    "import logging\n",
    "import random\n",
    "import os\n",
    "from telegram.ext import Updater, CommandHandler, MessageHandler, Filters, RegexHandler\n",
    "from telegram import ReplyKeyboardMarkup, KeyboardButton"
   ]
  },
  {
   "cell_type": "code",
   "execution_count": 16,
   "metadata": {},
   "outputs": [],
   "source": [
    "logging.basicConfig(level=logging.INFO, filename=\"test_bot.log\", format='%(asctime)s - %(levelname)s - %(message)s')"
   ]
  },
  {
   "cell_type": "code",
   "execution_count": null,
   "metadata": {},
   "outputs": [],
   "source": []
  },
  {
   "cell_type": "code",
   "execution_count": 17,
   "metadata": {},
   "outputs": [],
   "source": [
    "def get_keyboard():\n",
    "    contact_button = KeyboardButton('Авторизоваться', request_contact=True)\n",
    "    location_button = KeyboardButton('Геолокация', request_location=True)\n",
    "    reply_keyboard = [['Прислать котика', 'Сменить аватарку'], [contact_button, location_button]]\n",
    "    return reply_keyboard"
   ]
  },
  {
   "cell_type": "code",
   "execution_count": 18,
   "metadata": {},
   "outputs": [],
   "source": [
    "def reply_to_start_command(bot, update, user_data):\n",
    "    first_name = update.effective_user.first_name\n",
    "    last_name = update.effective_user.last_name\n",
    "    avatar = get_avatar(user_data)\n",
    "    text = 'Добрый день! Вас приветствует Бот-ассистент \"Техническая поддержка МТС\". Для корректной работы системы необходимо нажать кнопки Авторизоваться и Геолокация'\n",
    "    logging.info(\"Пользователь {} {} нажал {}\".format(first_name, last_name, \"/start\"))\n",
    "    update.message.reply_text(text, reply_markup=ReplyKeyboardMarkup(get_keyboard(), resize_keyboard=True))"
   ]
  },
  {
   "cell_type": "code",
   "execution_count": null,
   "metadata": {},
   "outputs": [],
   "source": []
  },
  {
   "cell_type": "code",
   "execution_count": null,
   "metadata": {},
   "outputs": [],
   "source": []
  },
  {
   "cell_type": "code",
   "execution_count": null,
   "metadata": {},
   "outputs": [],
   "source": []
  },
  {
   "cell_type": "code",
   "execution_count": 19,
   "metadata": {},
   "outputs": [],
   "source": [
    "def get_contact(bot, update, user_data):\n",
    "    first_name = update.effective_user.first_name\n",
    "    last_name = update.effective_user.last_name\n",
    "    print(update.message.contact)\n",
    "    update.message.reply_text('Спасибо! Ваши данные приняты.')\n",
    "    logging.info(\"Пользователь {} {} нажал {}\".format(first_name, last_name, \"Авторизоваться\"))"
   ]
  },
  {
   "cell_type": "code",
   "execution_count": 20,
   "metadata": {},
   "outputs": [],
   "source": [
    "def get_location(bot, update, user_data):\n",
    "    first_name = update.effective_user.first_name\n",
    "    last_name = update.effective_user.last_name\n",
    "    print(update.message.location)\n",
    "    update.message.reply_text('Спасибо! Ваши данные приняты. Пожалуйста, выберите следующий пункт меню: ')\n",
    "    logging.info(\"Пользователь {} {} нажал {}\".format(first_name, last_name, \"Геолокация\"))"
   ]
  },
  {
   "cell_type": "code",
   "execution_count": 21,
   "metadata": {},
   "outputs": [],
   "source": [
    "def start_bot():\n",
    "    my_bot = Updater('584951981:AAFQdTkSSSqH4QCCF0IprIDHJ0AvKlunJM8')\n",
    "\n",
    "    dp = my_bot.dispatcher\n",
    "    dp.add_handler(CommandHandler(\"start\", reply_to_start_command, pass_user_data=True))\n",
    "    dp.add_handler(CommandHandler(\"cat\", send_cat, pass_user_data=True))\n",
    "    dp.add_handler(RegexHandler(\"^(Прислать котика)$\", send_cat, pass_user_data=True))\n",
    "    dp.add_handler(RegexHandler(\"^(Сменить аватарку)$\", change_avatar_step1, pass_user_data=True))\n",
    "    dp.add_handler(MessageHandler(Filters.contact, get_contact, pass_user_data=True))\n",
    "    dp.add_handler(MessageHandler(Filters.location, get_location, pass_user_data=True))\n",
    "\n",
    "    my_bot.start_polling()\n",
    "    my_bot.idle()"
   ]
  },
  {
   "cell_type": "code",
   "execution_count": 22,
   "metadata": {},
   "outputs": [],
   "source": [
    "if __name__ == \"__main__\":\n",
    "    start_bot()"
   ]
  },
  {
   "cell_type": "code",
   "execution_count": null,
   "metadata": {},
   "outputs": [],
   "source": []
  }
 ],
 "metadata": {
  "kernelspec": {
   "display_name": "Python 3",
   "language": "python",
   "name": "python3"
  },
  "language_info": {
   "codemirror_mode": {
    "name": "ipython",
    "version": 3
   },
   "file_extension": ".py",
   "mimetype": "text/x-python",
   "name": "python",
   "nbconvert_exporter": "python",
   "pygments_lexer": "ipython3",
   "version": "3.6.4"
  }
 },
 "nbformat": 4,
 "nbformat_minor": 2
}
