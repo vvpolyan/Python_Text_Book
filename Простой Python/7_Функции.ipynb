{
 "cells": [
  {
   "cell_type": "markdown",
   "metadata": {},
   "source": [
    "# Функции"
   ]
  },
  {
   "cell_type": "code",
   "execution_count": 1,
   "metadata": {},
   "outputs": [],
   "source": [
    "def do_nothing():\n",
    "    pass"
   ]
  },
  {
   "cell_type": "code",
   "execution_count": 2,
   "metadata": {},
   "outputs": [],
   "source": [
    "do_nothing()"
   ]
  },
  {
   "cell_type": "code",
   "execution_count": 3,
   "metadata": {},
   "outputs": [],
   "source": [
    "def make_a_sound():\n",
    "    print('quack')"
   ]
  },
  {
   "cell_type": "code",
   "execution_count": 4,
   "metadata": {},
   "outputs": [
    {
     "name": "stdout",
     "output_type": "stream",
     "text": [
      "quack\n"
     ]
    }
   ],
   "source": [
    "make_a_sound()"
   ]
  },
  {
   "cell_type": "code",
   "execution_count": 5,
   "metadata": {},
   "outputs": [],
   "source": [
    "def agree():\n",
    "    return True"
   ]
  },
  {
   "cell_type": "code",
   "execution_count": 7,
   "metadata": {},
   "outputs": [
    {
     "data": {
      "text/plain": [
       "True"
      ]
     },
     "execution_count": 7,
     "metadata": {},
     "output_type": "execute_result"
    }
   ],
   "source": [
    "agree()"
   ]
  },
  {
   "cell_type": "code",
   "execution_count": 8,
   "metadata": {},
   "outputs": [
    {
     "name": "stdout",
     "output_type": "stream",
     "text": [
      "Splendid!\n"
     ]
    }
   ],
   "source": [
    "if agree():\n",
    "    print('Splendid!')\n",
    "else:\n",
    "    print('That was unexpected.')"
   ]
  },
  {
   "cell_type": "code",
   "execution_count": 9,
   "metadata": {},
   "outputs": [],
   "source": [
    "def echo(anything):\n",
    "    return anything + ' ' + anything"
   ]
  },
  {
   "cell_type": "code",
   "execution_count": 10,
   "metadata": {},
   "outputs": [
    {
     "data": {
      "text/plain": [
       "'Привет Привет'"
      ]
     },
     "execution_count": 10,
     "metadata": {},
     "output_type": "execute_result"
    }
   ],
   "source": [
    "echo('Привет')"
   ]
  },
  {
   "cell_type": "code",
   "execution_count": 15,
   "metadata": {},
   "outputs": [],
   "source": [
    "def commentary(color):\n",
    "    if color == 'red':\n",
    "        return 'It\\'s a tomato.'\n",
    "    elif color == 'green':\n",
    "        return 'It\\'s a green pepper.'\n",
    "    elif color == 'bee purple':\n",
    "        return 'I don\\'t know what it is, but only bees can see it.'\n",
    "    else:\n",
    "        return 'I\\'ve never heard of the color ' + color +'.'"
   ]
  },
  {
   "cell_type": "code",
   "execution_count": 12,
   "metadata": {},
   "outputs": [
    {
     "data": {
      "text/plain": [
       "\"It's a tomato.\""
      ]
     },
     "execution_count": 12,
     "metadata": {},
     "output_type": "execute_result"
    }
   ],
   "source": [
    "commentary('red')"
   ]
  },
  {
   "cell_type": "code",
   "execution_count": 13,
   "metadata": {},
   "outputs": [
    {
     "data": {
      "text/plain": [
       "\"It's a green pepper.\""
      ]
     },
     "execution_count": 13,
     "metadata": {},
     "output_type": "execute_result"
    }
   ],
   "source": [
    "commentary('green')"
   ]
  },
  {
   "cell_type": "code",
   "execution_count": 16,
   "metadata": {},
   "outputs": [
    {
     "data": {
      "text/plain": [
       "\"I've never heard of the color blue.\""
      ]
     },
     "execution_count": 16,
     "metadata": {},
     "output_type": "execute_result"
    }
   ],
   "source": [
    "commentary('blue')"
   ]
  },
  {
   "cell_type": "markdown",
   "metadata": {},
   "source": [
    "# Позиционные аргументы"
   ]
  },
  {
   "cell_type": "code",
   "execution_count": 18,
   "metadata": {},
   "outputs": [],
   "source": [
    "def menu(wine, entree, dessert):\n",
    "    return {'wine': wine, 'entree': entree, 'dessert': dessert}"
   ]
  },
  {
   "cell_type": "code",
   "execution_count": 19,
   "metadata": {},
   "outputs": [
    {
     "data": {
      "text/plain": [
       "{'dessert': 'cake', 'entree': 'chicken', 'wine': 'chardonnay'}"
      ]
     },
     "execution_count": 19,
     "metadata": {},
     "output_type": "execute_result"
    }
   ],
   "source": [
    "menu('chardonnay', 'chicken', 'cake')"
   ]
  },
  {
   "cell_type": "code",
   "execution_count": 20,
   "metadata": {},
   "outputs": [
    {
     "data": {
      "text/plain": [
       "{'dessert': 'bordeaux', 'entree': 'bagel', 'wine': 'beef'}"
      ]
     },
     "execution_count": 20,
     "metadata": {},
     "output_type": "execute_result"
    }
   ],
   "source": [
    "menu('beef', 'bagel', 'bordeaux')"
   ]
  },
  {
   "cell_type": "markdown",
   "metadata": {},
   "source": [
    "# Позиционные аргументы *args (кортеж)"
   ]
  },
  {
   "cell_type": "code",
   "execution_count": 23,
   "metadata": {},
   "outputs": [],
   "source": [
    "def print_args(*args):\n",
    "    print('Positional argument tuple:', args)"
   ]
  },
  {
   "cell_type": "code",
   "execution_count": 24,
   "metadata": {},
   "outputs": [
    {
     "name": "stdout",
     "output_type": "stream",
     "text": [
      "Positional argument tuple: ()\n"
     ]
    }
   ],
   "source": [
    "print_args()"
   ]
  },
  {
   "cell_type": "code",
   "execution_count": 25,
   "metadata": {},
   "outputs": [
    {
     "name": "stdout",
     "output_type": "stream",
     "text": [
      "Positional argument tuple: (3, 2, 1, 'wait', 'uh...')\n"
     ]
    }
   ],
   "source": [
    "print_args(3, 2, 1, 'wait', 'uh...')"
   ]
  },
  {
   "cell_type": "code",
   "execution_count": 28,
   "metadata": {},
   "outputs": [],
   "source": [
    "def print_more(line_1, line_2, *args):\n",
    "    print('Need this one:', line_1)\n",
    "    print('Need this one too:', line_2)\n",
    "    print('All the rest:', args)"
   ]
  },
  {
   "cell_type": "code",
   "execution_count": 29,
   "metadata": {},
   "outputs": [
    {
     "name": "stdout",
     "output_type": "stream",
     "text": [
      "Need this one: cap\n",
      "Need this one too: gloves\n",
      "All the rest: ('scarf', 'monocle', 'mustache wax')\n"
     ]
    }
   ],
   "source": [
    "print_more('cap', 'gloves', 'scarf', 'monocle', 'mustache wax')"
   ]
  },
  {
   "cell_type": "markdown",
   "metadata": {},
   "source": [
    "# Аргументы ключевых слов **kwargs (словарь)"
   ]
  },
  {
   "cell_type": "code",
   "execution_count": 30,
   "metadata": {},
   "outputs": [],
   "source": [
    "def print_kwargs(**kwargs):\n",
    "    print('Keyword arguments:', kwargs)"
   ]
  },
  {
   "cell_type": "code",
   "execution_count": 31,
   "metadata": {},
   "outputs": [
    {
     "name": "stdout",
     "output_type": "stream",
     "text": [
      "Keyword arguments: {'wine': 'merlot', 'entree': 'mutton', 'dessert': 'macaroon'}\n"
     ]
    }
   ],
   "source": [
    "print_kwargs(wine = 'merlot', entree = 'mutton', dessert = 'macaroon')"
   ]
  },
  {
   "cell_type": "markdown",
   "metadata": {},
   "source": [
    "# Функции - объекты первого класса"
   ]
  },
  {
   "cell_type": "code",
   "execution_count": 32,
   "metadata": {},
   "outputs": [],
   "source": [
    "def add_args(arg_1, arg_2):\n",
    "    print(arg_1 + arg_2)"
   ]
  },
  {
   "cell_type": "code",
   "execution_count": 33,
   "metadata": {},
   "outputs": [
    {
     "name": "stdout",
     "output_type": "stream",
     "text": [
      "25\n"
     ]
    }
   ],
   "source": [
    "add_args(12, 13)"
   ]
  },
  {
   "cell_type": "code",
   "execution_count": 34,
   "metadata": {},
   "outputs": [],
   "source": [
    "def run_some_with_args(func, arg_1, arg_2):\n",
    "    func(arg_1, arg_2)"
   ]
  },
  {
   "cell_type": "code",
   "execution_count": 35,
   "metadata": {},
   "outputs": [
    {
     "name": "stdout",
     "output_type": "stream",
     "text": [
      "25\n"
     ]
    }
   ],
   "source": [
    "run_some_with_args(add_args, 12, 13)"
   ]
  },
  {
   "cell_type": "code",
   "execution_count": 36,
   "metadata": {},
   "outputs": [],
   "source": [
    "def sum_args(*args):\n",
    "    return sum(args)"
   ]
  },
  {
   "cell_type": "code",
   "execution_count": 37,
   "metadata": {},
   "outputs": [],
   "source": [
    "def run_args(func, *args):\n",
    "    return func(*args)"
   ]
  },
  {
   "cell_type": "code",
   "execution_count": 38,
   "metadata": {},
   "outputs": [
    {
     "data": {
      "text/plain": [
       "10"
      ]
     },
     "execution_count": 38,
     "metadata": {},
     "output_type": "execute_result"
    }
   ],
   "source": [
    "run_args(sum_args, 1, 2, 3, 4)"
   ]
  },
  {
   "cell_type": "markdown",
   "metadata": {},
   "source": [
    "# Внутренние функции"
   ]
  },
  {
   "cell_type": "code",
   "execution_count": 39,
   "metadata": {},
   "outputs": [],
   "source": [
    "def outer(a, b):\n",
    "    def inner(c, d):\n",
    "        return c + d\n",
    "    return inner(a, b)"
   ]
  },
  {
   "cell_type": "code",
   "execution_count": 40,
   "metadata": {},
   "outputs": [
    {
     "data": {
      "text/plain": [
       "25"
      ]
     },
     "execution_count": 40,
     "metadata": {},
     "output_type": "execute_result"
    }
   ],
   "source": [
    "outer(12, 13)"
   ]
  },
  {
   "cell_type": "markdown",
   "metadata": {},
   "source": [
    "# Анонимная функция lambda()"
   ]
  },
  {
   "cell_type": "code",
   "execution_count": 1,
   "metadata": {},
   "outputs": [],
   "source": [
    "def edit_story(words, func):\n",
    "    for word in words:\n",
    "        print(func(word))"
   ]
  },
  {
   "cell_type": "code",
   "execution_count": 2,
   "metadata": {},
   "outputs": [],
   "source": [
    "stairs = ['thud', 'meow', 'thud', 'hiss']"
   ]
  },
  {
   "cell_type": "code",
   "execution_count": 3,
   "metadata": {},
   "outputs": [],
   "source": [
    "def enliven(word):\n",
    "    return word.capitalize() + '!'"
   ]
  },
  {
   "cell_type": "code",
   "execution_count": 4,
   "metadata": {},
   "outputs": [
    {
     "name": "stdout",
     "output_type": "stream",
     "text": [
      "Thud!\n",
      "Meow!\n",
      "Thud!\n",
      "Hiss!\n"
     ]
    }
   ],
   "source": [
    "edit_story(stairs, enliven)"
   ]
  },
  {
   "cell_type": "code",
   "execution_count": 5,
   "metadata": {},
   "outputs": [
    {
     "name": "stdout",
     "output_type": "stream",
     "text": [
      "Thud!\n",
      "Meow!\n",
      "Thud!\n",
      "Hiss!\n"
     ]
    }
   ],
   "source": [
    "edit_story(stairs, lambda word: word.capitalize() + '!')"
   ]
  },
  {
   "cell_type": "markdown",
   "metadata": {},
   "source": [
    "# Генераторы"
   ]
  },
  {
   "cell_type": "code",
   "execution_count": 6,
   "metadata": {},
   "outputs": [
    {
     "data": {
      "text/plain": [
       "45"
      ]
     },
     "execution_count": 6,
     "metadata": {},
     "output_type": "execute_result"
    }
   ],
   "source": [
    "sum(range(1, 10))"
   ]
  },
  {
   "cell_type": "code",
   "execution_count": 13,
   "metadata": {},
   "outputs": [],
   "source": [
    "def my_range(fierst=0, last=10, step=1):\n",
    "    number = fierst\n",
    "    while number < last:\n",
    "        yield number\n",
    "        number += step"
   ]
  },
  {
   "cell_type": "markdown",
   "metadata": {},
   "source": [
    "Это обычная функция, которая возвращает значение с помощью выражения yield, а не return"
   ]
  },
  {
   "cell_type": "code",
   "execution_count": 14,
   "metadata": {},
   "outputs": [],
   "source": [
    "ranger = my_range(1, 10)"
   ]
  },
  {
   "cell_type": "code",
   "execution_count": 15,
   "metadata": {},
   "outputs": [
    {
     "data": {
      "text/plain": [
       "<generator object my_range at 0x000001A5E8E3B308>"
      ]
     },
     "execution_count": 15,
     "metadata": {},
     "output_type": "execute_result"
    }
   ],
   "source": [
    "ranger"
   ]
  },
  {
   "cell_type": "code",
   "execution_count": 16,
   "metadata": {},
   "outputs": [
    {
     "name": "stdout",
     "output_type": "stream",
     "text": [
      "<generator object my_range at 0x000001A5E8E3B308>\n"
     ]
    }
   ],
   "source": [
    "print(ranger)"
   ]
  },
  {
   "cell_type": "code",
   "execution_count": 17,
   "metadata": {},
   "outputs": [
    {
     "name": "stdout",
     "output_type": "stream",
     "text": [
      "1\n",
      "2\n",
      "3\n",
      "4\n",
      "5\n",
      "6\n",
      "7\n",
      "8\n",
      "9\n"
     ]
    }
   ],
   "source": [
    "for x in ranger:\n",
    "    print(x)"
   ]
  },
  {
   "cell_type": "markdown",
   "metadata": {},
   "source": [
    "# Декораторы"
   ]
  },
  {
   "cell_type": "code",
   "execution_count": 18,
   "metadata": {},
   "outputs": [],
   "source": [
    "def document_it(func):\n",
    "    def new_function(*args, **kwargs):\n",
    "        print('Running function:', func.__name__)\n",
    "        print('Positional arguments:', args)\n",
    "        print('Keyword arguments:', kwargs)\n",
    "        result = func(*args, **kwargs)\n",
    "        print('Result:', result)\n",
    "        return result\n",
    "    return new_function"
   ]
  },
  {
   "cell_type": "code",
   "execution_count": 19,
   "metadata": {},
   "outputs": [],
   "source": [
    "def add_ints(a, b):\n",
    "    return a + b"
   ]
  },
  {
   "cell_type": "code",
   "execution_count": 20,
   "metadata": {},
   "outputs": [
    {
     "data": {
      "text/plain": [
       "8"
      ]
     },
     "execution_count": 20,
     "metadata": {},
     "output_type": "execute_result"
    }
   ],
   "source": [
    "add_ints(3, 5)"
   ]
  },
  {
   "cell_type": "code",
   "execution_count": 21,
   "metadata": {},
   "outputs": [],
   "source": [
    "cooler_add_ints = document_it(add_ints) #мануальное присвоение декоратора"
   ]
  },
  {
   "cell_type": "code",
   "execution_count": 22,
   "metadata": {},
   "outputs": [
    {
     "name": "stdout",
     "output_type": "stream",
     "text": [
      "Running function: add_ints\n",
      "Positional arguments: (3, 5)\n",
      "Keyword arguments: {}\n",
      "Result: 8\n"
     ]
    },
    {
     "data": {
      "text/plain": [
       "8"
      ]
     },
     "execution_count": 22,
     "metadata": {},
     "output_type": "execute_result"
    }
   ],
   "source": [
    "cooler_add_ints(3, 5)"
   ]
  },
  {
   "cell_type": "code",
   "execution_count": 24,
   "metadata": {},
   "outputs": [],
   "source": [
    "@document_it\n",
    "def add_ints(a, b):\n",
    "    return a + b"
   ]
  },
  {
   "cell_type": "code",
   "execution_count": 25,
   "metadata": {},
   "outputs": [
    {
     "name": "stdout",
     "output_type": "stream",
     "text": [
      "Running function: add_ints\n",
      "Positional arguments: (3, 5)\n",
      "Keyword arguments: {}\n",
      "Result: 8\n"
     ]
    },
    {
     "data": {
      "text/plain": [
       "8"
      ]
     },
     "execution_count": 25,
     "metadata": {},
     "output_type": "execute_result"
    }
   ],
   "source": [
    "add_ints(3, 5)"
   ]
  },
  {
   "cell_type": "code",
   "execution_count": 26,
   "metadata": {},
   "outputs": [],
   "source": [
    "def square_it(func):\n",
    "    def new_function(*args, **kwargs):\n",
    "        result = func(*args, **kwargs)\n",
    "        return result * result\n",
    "    return new_function"
   ]
  },
  {
   "cell_type": "code",
   "execution_count": 27,
   "metadata": {},
   "outputs": [],
   "source": [
    "@document_it\n",
    "@square_it\n",
    "def add_ints(a, b):\n",
    "    return a + b"
   ]
  },
  {
   "cell_type": "code",
   "execution_count": 28,
   "metadata": {},
   "outputs": [
    {
     "name": "stdout",
     "output_type": "stream",
     "text": [
      "Running function: new_function\n",
      "Positional arguments: (3, 5)\n",
      "Keyword arguments: {}\n",
      "Result: 64\n"
     ]
    },
    {
     "data": {
      "text/plain": [
       "64"
      ]
     },
     "execution_count": 28,
     "metadata": {},
     "output_type": "execute_result"
    }
   ],
   "source": [
    "add_ints(3, 5)"
   ]
  },
  {
   "cell_type": "code",
   "execution_count": 29,
   "metadata": {},
   "outputs": [],
   "source": [
    "@square_it\n",
    "@document_it\n",
    "def add_ints(a, b):\n",
    "    return a + b"
   ]
  },
  {
   "cell_type": "code",
   "execution_count": 30,
   "metadata": {},
   "outputs": [
    {
     "name": "stdout",
     "output_type": "stream",
     "text": [
      "Running function: add_ints\n",
      "Positional arguments: (3, 5)\n",
      "Keyword arguments: {}\n",
      "Result: 8\n"
     ]
    },
    {
     "data": {
      "text/plain": [
       "64"
      ]
     },
     "execution_count": 30,
     "metadata": {},
     "output_type": "execute_result"
    }
   ],
   "source": [
    "add_ints(3, 5)"
   ]
  },
  {
   "cell_type": "code",
   "execution_count": 31,
   "metadata": {},
   "outputs": [
    {
     "data": {
      "text/plain": [
       "{'In': ['',\n",
       "  'def edit_story(words, func):\\n    for word in words:\\n        print(func(word))',\n",
       "  \"stairs = ['thud', 'meow', 'thud', 'hiss']\",\n",
       "  \"def enliven(word):\\n    return word.capitalize() + '!'\",\n",
       "  'edit_story(stairs, enliven)',\n",
       "  \"edit_story(stairs, lambda word: word.capitalize() + '!')\",\n",
       "  'sum(range(1, 10))',\n",
       "  'def my_range(first=0, last=10, step=1):\\n    number = fierst\\n    while number < last:\\n        yield number\\n        number += step',\n",
       "  '#Это обычная функция, которая возвращает значение с помощью выражения yield, а не return',\n",
       "  'ranger = my_range(1, 10)',\n",
       "  'ranger',\n",
       "  'print(ranger)',\n",
       "  'for x in ranger:\\n    print(x)',\n",
       "  'def my_range(fierst=0, last=10, step=1):\\n    number = fierst\\n    while number < last:\\n        yield number\\n        number += step',\n",
       "  'ranger = my_range(1, 10)',\n",
       "  'ranger',\n",
       "  'print(ranger)',\n",
       "  'for x in ranger:\\n    print(x)',\n",
       "  \"def document_it(func):\\n    def new_function(*args, **kwargs):\\n        print('Running function:', func.__name__)\\n        print('Positional arguments:', args)\\n        print('Keyword arguments:', kwargs)\\n        result = func(*args, **kwargs)\\n        print('Result:', result)\\n        return result\\n    return new_function\",\n",
       "  'def add_ints(a, b):\\n    return a + b',\n",
       "  'add_ints(3, 5)',\n",
       "  'cooler_add_ints = document_it(add_ints) #мануальное присвоение декоратора',\n",
       "  'cooler_add_ints(3, 5)',\n",
       "  '@document_it',\n",
       "  '@document_it\\ndef add_ints(a, b):\\n    return a + b',\n",
       "  'add_ints(3, 5)',\n",
       "  'def square_it(func):\\n    def new_function(*args, **kwargs):\\n        result = func(*args, **kwargs)\\n        return result * result\\n    return new_function',\n",
       "  '@document_it\\n@square_it\\ndef add_ints(a, b):\\n    return a + b',\n",
       "  'add_ints(3, 5)',\n",
       "  '@square_it\\n@document_it\\ndef add_ints(a, b):\\n    return a + b',\n",
       "  'add_ints(3, 5)',\n",
       "  'locals()'],\n",
       " 'Out': {6: 45,\n",
       "  10: <generator object my_range at 0x000001A5E8D965C8>,\n",
       "  15: <generator object my_range at 0x000001A5E8E3B308>,\n",
       "  20: 8,\n",
       "  22: 8,\n",
       "  25: 8,\n",
       "  28: 64,\n",
       "  30: 64},\n",
       " '_': 64,\n",
       " '_10': <generator object my_range at 0x000001A5E8D965C8>,\n",
       " '_15': <generator object my_range at 0x000001A5E8E3B308>,\n",
       " '_20': 8,\n",
       " '_22': 8,\n",
       " '_25': 8,\n",
       " '_28': 64,\n",
       " '_30': 64,\n",
       " '_6': 45,\n",
       " '__': 64,\n",
       " '___': 8,\n",
       " '__builtin__': <module 'builtins' (built-in)>,\n",
       " '__builtins__': <module 'builtins' (built-in)>,\n",
       " '__doc__': 'Automatically created module for IPython interactive environment',\n",
       " '__loader__': None,\n",
       " '__name__': '__main__',\n",
       " '__package__': None,\n",
       " '__spec__': None,\n",
       " '_dh': ['C:\\\\Users\\\\sergey_reb\\\\Anaconda3\\\\Git_Hab\\\\Простой Python'],\n",
       " '_i': 'add_ints(3, 5)',\n",
       " '_i1': 'def edit_story(words, func):\\n    for word in words:\\n        print(func(word))',\n",
       " '_i10': 'ranger',\n",
       " '_i11': 'print(ranger)',\n",
       " '_i12': 'for x in ranger:\\n    print(x)',\n",
       " '_i13': 'def my_range(fierst=0, last=10, step=1):\\n    number = fierst\\n    while number < last:\\n        yield number\\n        number += step',\n",
       " '_i14': 'ranger = my_range(1, 10)',\n",
       " '_i15': 'ranger',\n",
       " '_i16': 'print(ranger)',\n",
       " '_i17': 'for x in ranger:\\n    print(x)',\n",
       " '_i18': \"def document_it(func):\\n    def new_function(*args, **kwargs):\\n        print('Running function:', func.__name__)\\n        print('Positional arguments:', args)\\n        print('Keyword arguments:', kwargs)\\n        result = func(*args, **kwargs)\\n        print('Result:', result)\\n        return result\\n    return new_function\",\n",
       " '_i19': 'def add_ints(a, b):\\n    return a + b',\n",
       " '_i2': \"stairs = ['thud', 'meow', 'thud', 'hiss']\",\n",
       " '_i20': 'add_ints(3, 5)',\n",
       " '_i21': 'cooler_add_ints = document_it(add_ints) #мануальное присвоение декоратора',\n",
       " '_i22': 'cooler_add_ints(3, 5)',\n",
       " '_i23': '@document_it',\n",
       " '_i24': '@document_it\\ndef add_ints(a, b):\\n    return a + b',\n",
       " '_i25': 'add_ints(3, 5)',\n",
       " '_i26': 'def square_it(func):\\n    def new_function(*args, **kwargs):\\n        result = func(*args, **kwargs)\\n        return result * result\\n    return new_function',\n",
       " '_i27': '@document_it\\n@square_it\\ndef add_ints(a, b):\\n    return a + b',\n",
       " '_i28': 'add_ints(3, 5)',\n",
       " '_i29': '@square_it\\n@document_it\\ndef add_ints(a, b):\\n    return a + b',\n",
       " '_i3': \"def enliven(word):\\n    return word.capitalize() + '!'\",\n",
       " '_i30': 'add_ints(3, 5)',\n",
       " '_i31': 'locals()',\n",
       " '_i4': 'edit_story(stairs, enliven)',\n",
       " '_i5': \"edit_story(stairs, lambda word: word.capitalize() + '!')\",\n",
       " '_i6': 'sum(range(1, 10))',\n",
       " '_i7': 'def my_range(first=0, last=10, step=1):\\n    number = fierst\\n    while number < last:\\n        yield number\\n        number += step',\n",
       " '_i8': '#Это обычная функция, которая возвращает значение с помощью выражения yield, а не return',\n",
       " '_i9': 'ranger = my_range(1, 10)',\n",
       " '_ih': ['',\n",
       "  'def edit_story(words, func):\\n    for word in words:\\n        print(func(word))',\n",
       "  \"stairs = ['thud', 'meow', 'thud', 'hiss']\",\n",
       "  \"def enliven(word):\\n    return word.capitalize() + '!'\",\n",
       "  'edit_story(stairs, enliven)',\n",
       "  \"edit_story(stairs, lambda word: word.capitalize() + '!')\",\n",
       "  'sum(range(1, 10))',\n",
       "  'def my_range(first=0, last=10, step=1):\\n    number = fierst\\n    while number < last:\\n        yield number\\n        number += step',\n",
       "  '#Это обычная функция, которая возвращает значение с помощью выражения yield, а не return',\n",
       "  'ranger = my_range(1, 10)',\n",
       "  'ranger',\n",
       "  'print(ranger)',\n",
       "  'for x in ranger:\\n    print(x)',\n",
       "  'def my_range(fierst=0, last=10, step=1):\\n    number = fierst\\n    while number < last:\\n        yield number\\n        number += step',\n",
       "  'ranger = my_range(1, 10)',\n",
       "  'ranger',\n",
       "  'print(ranger)',\n",
       "  'for x in ranger:\\n    print(x)',\n",
       "  \"def document_it(func):\\n    def new_function(*args, **kwargs):\\n        print('Running function:', func.__name__)\\n        print('Positional arguments:', args)\\n        print('Keyword arguments:', kwargs)\\n        result = func(*args, **kwargs)\\n        print('Result:', result)\\n        return result\\n    return new_function\",\n",
       "  'def add_ints(a, b):\\n    return a + b',\n",
       "  'add_ints(3, 5)',\n",
       "  'cooler_add_ints = document_it(add_ints) #мануальное присвоение декоратора',\n",
       "  'cooler_add_ints(3, 5)',\n",
       "  '@document_it',\n",
       "  '@document_it\\ndef add_ints(a, b):\\n    return a + b',\n",
       "  'add_ints(3, 5)',\n",
       "  'def square_it(func):\\n    def new_function(*args, **kwargs):\\n        result = func(*args, **kwargs)\\n        return result * result\\n    return new_function',\n",
       "  '@document_it\\n@square_it\\ndef add_ints(a, b):\\n    return a + b',\n",
       "  'add_ints(3, 5)',\n",
       "  '@square_it\\n@document_it\\ndef add_ints(a, b):\\n    return a + b',\n",
       "  'add_ints(3, 5)',\n",
       "  'locals()'],\n",
       " '_ii': '@square_it\\n@document_it\\ndef add_ints(a, b):\\n    return a + b',\n",
       " '_iii': 'add_ints(3, 5)',\n",
       " '_oh': {6: 45,\n",
       "  10: <generator object my_range at 0x000001A5E8D965C8>,\n",
       "  15: <generator object my_range at 0x000001A5E8E3B308>,\n",
       "  20: 8,\n",
       "  22: 8,\n",
       "  25: 8,\n",
       "  28: 64,\n",
       "  30: 64},\n",
       " 'add_ints': <function __main__.square_it.<locals>.new_function>,\n",
       " 'cooler_add_ints': <function __main__.document_it.<locals>.new_function>,\n",
       " 'document_it': <function __main__.document_it>,\n",
       " 'edit_story': <function __main__.edit_story>,\n",
       " 'enliven': <function __main__.enliven>,\n",
       " 'exit': <IPython.core.autocall.ZMQExitAutocall at 0x1a5e7ce80b8>,\n",
       " 'get_ipython': <bound method InteractiveShell.get_ipython of <ipykernel.zmqshell.ZMQInteractiveShell object at 0x000001A5E7C81C18>>,\n",
       " 'my_range': <function __main__.my_range>,\n",
       " 'quit': <IPython.core.autocall.ZMQExitAutocall at 0x1a5e7ce80b8>,\n",
       " 'ranger': <generator object my_range at 0x000001A5E8E3B308>,\n",
       " 'square_it': <function __main__.square_it>,\n",
       " 'stairs': ['thud', 'meow', 'thud', 'hiss'],\n",
       " 'x': 9}"
      ]
     },
     "execution_count": 31,
     "metadata": {},
     "output_type": "execute_result"
    }
   ],
   "source": [
    "locals()"
   ]
  },
  {
   "cell_type": "code",
   "execution_count": 32,
   "metadata": {},
   "outputs": [
    {
     "data": {
      "text/plain": [
       "{'In': ['',\n",
       "  'def edit_story(words, func):\\n    for word in words:\\n        print(func(word))',\n",
       "  \"stairs = ['thud', 'meow', 'thud', 'hiss']\",\n",
       "  \"def enliven(word):\\n    return word.capitalize() + '!'\",\n",
       "  'edit_story(stairs, enliven)',\n",
       "  \"edit_story(stairs, lambda word: word.capitalize() + '!')\",\n",
       "  'sum(range(1, 10))',\n",
       "  'def my_range(first=0, last=10, step=1):\\n    number = fierst\\n    while number < last:\\n        yield number\\n        number += step',\n",
       "  '#Это обычная функция, которая возвращает значение с помощью выражения yield, а не return',\n",
       "  'ranger = my_range(1, 10)',\n",
       "  'ranger',\n",
       "  'print(ranger)',\n",
       "  'for x in ranger:\\n    print(x)',\n",
       "  'def my_range(fierst=0, last=10, step=1):\\n    number = fierst\\n    while number < last:\\n        yield number\\n        number += step',\n",
       "  'ranger = my_range(1, 10)',\n",
       "  'ranger',\n",
       "  'print(ranger)',\n",
       "  'for x in ranger:\\n    print(x)',\n",
       "  \"def document_it(func):\\n    def new_function(*args, **kwargs):\\n        print('Running function:', func.__name__)\\n        print('Positional arguments:', args)\\n        print('Keyword arguments:', kwargs)\\n        result = func(*args, **kwargs)\\n        print('Result:', result)\\n        return result\\n    return new_function\",\n",
       "  'def add_ints(a, b):\\n    return a + b',\n",
       "  'add_ints(3, 5)',\n",
       "  'cooler_add_ints = document_it(add_ints) #мануальное присвоение декоратора',\n",
       "  'cooler_add_ints(3, 5)',\n",
       "  '@document_it',\n",
       "  '@document_it\\ndef add_ints(a, b):\\n    return a + b',\n",
       "  'add_ints(3, 5)',\n",
       "  'def square_it(func):\\n    def new_function(*args, **kwargs):\\n        result = func(*args, **kwargs)\\n        return result * result\\n    return new_function',\n",
       "  '@document_it\\n@square_it\\ndef add_ints(a, b):\\n    return a + b',\n",
       "  'add_ints(3, 5)',\n",
       "  '@square_it\\n@document_it\\ndef add_ints(a, b):\\n    return a + b',\n",
       "  'add_ints(3, 5)',\n",
       "  'locals()',\n",
       "  'globals()'],\n",
       " 'Out': {6: 45,\n",
       "  10: <generator object my_range at 0x000001A5E8D965C8>,\n",
       "  15: <generator object my_range at 0x000001A5E8E3B308>,\n",
       "  20: 8,\n",
       "  22: 8,\n",
       "  25: 8,\n",
       "  28: 64,\n",
       "  30: 64,\n",
       "  31: {...}},\n",
       " '_': {...},\n",
       " '_10': <generator object my_range at 0x000001A5E8D965C8>,\n",
       " '_15': <generator object my_range at 0x000001A5E8E3B308>,\n",
       " '_20': 8,\n",
       " '_22': 8,\n",
       " '_25': 8,\n",
       " '_28': 64,\n",
       " '_30': 64,\n",
       " '_31': {...},\n",
       " '_6': 45,\n",
       " '__': 64,\n",
       " '___': 64,\n",
       " '__builtin__': <module 'builtins' (built-in)>,\n",
       " '__builtins__': <module 'builtins' (built-in)>,\n",
       " '__doc__': 'Automatically created module for IPython interactive environment',\n",
       " '__loader__': None,\n",
       " '__name__': '__main__',\n",
       " '__package__': None,\n",
       " '__spec__': None,\n",
       " '_dh': ['C:\\\\Users\\\\sergey_reb\\\\Anaconda3\\\\Git_Hab\\\\Простой Python'],\n",
       " '_i': 'locals()',\n",
       " '_i1': 'def edit_story(words, func):\\n    for word in words:\\n        print(func(word))',\n",
       " '_i10': 'ranger',\n",
       " '_i11': 'print(ranger)',\n",
       " '_i12': 'for x in ranger:\\n    print(x)',\n",
       " '_i13': 'def my_range(fierst=0, last=10, step=1):\\n    number = fierst\\n    while number < last:\\n        yield number\\n        number += step',\n",
       " '_i14': 'ranger = my_range(1, 10)',\n",
       " '_i15': 'ranger',\n",
       " '_i16': 'print(ranger)',\n",
       " '_i17': 'for x in ranger:\\n    print(x)',\n",
       " '_i18': \"def document_it(func):\\n    def new_function(*args, **kwargs):\\n        print('Running function:', func.__name__)\\n        print('Positional arguments:', args)\\n        print('Keyword arguments:', kwargs)\\n        result = func(*args, **kwargs)\\n        print('Result:', result)\\n        return result\\n    return new_function\",\n",
       " '_i19': 'def add_ints(a, b):\\n    return a + b',\n",
       " '_i2': \"stairs = ['thud', 'meow', 'thud', 'hiss']\",\n",
       " '_i20': 'add_ints(3, 5)',\n",
       " '_i21': 'cooler_add_ints = document_it(add_ints) #мануальное присвоение декоратора',\n",
       " '_i22': 'cooler_add_ints(3, 5)',\n",
       " '_i23': '@document_it',\n",
       " '_i24': '@document_it\\ndef add_ints(a, b):\\n    return a + b',\n",
       " '_i25': 'add_ints(3, 5)',\n",
       " '_i26': 'def square_it(func):\\n    def new_function(*args, **kwargs):\\n        result = func(*args, **kwargs)\\n        return result * result\\n    return new_function',\n",
       " '_i27': '@document_it\\n@square_it\\ndef add_ints(a, b):\\n    return a + b',\n",
       " '_i28': 'add_ints(3, 5)',\n",
       " '_i29': '@square_it\\n@document_it\\ndef add_ints(a, b):\\n    return a + b',\n",
       " '_i3': \"def enliven(word):\\n    return word.capitalize() + '!'\",\n",
       " '_i30': 'add_ints(3, 5)',\n",
       " '_i31': 'locals()',\n",
       " '_i32': 'globals()',\n",
       " '_i4': 'edit_story(stairs, enliven)',\n",
       " '_i5': \"edit_story(stairs, lambda word: word.capitalize() + '!')\",\n",
       " '_i6': 'sum(range(1, 10))',\n",
       " '_i7': 'def my_range(first=0, last=10, step=1):\\n    number = fierst\\n    while number < last:\\n        yield number\\n        number += step',\n",
       " '_i8': '#Это обычная функция, которая возвращает значение с помощью выражения yield, а не return',\n",
       " '_i9': 'ranger = my_range(1, 10)',\n",
       " '_ih': ['',\n",
       "  'def edit_story(words, func):\\n    for word in words:\\n        print(func(word))',\n",
       "  \"stairs = ['thud', 'meow', 'thud', 'hiss']\",\n",
       "  \"def enliven(word):\\n    return word.capitalize() + '!'\",\n",
       "  'edit_story(stairs, enliven)',\n",
       "  \"edit_story(stairs, lambda word: word.capitalize() + '!')\",\n",
       "  'sum(range(1, 10))',\n",
       "  'def my_range(first=0, last=10, step=1):\\n    number = fierst\\n    while number < last:\\n        yield number\\n        number += step',\n",
       "  '#Это обычная функция, которая возвращает значение с помощью выражения yield, а не return',\n",
       "  'ranger = my_range(1, 10)',\n",
       "  'ranger',\n",
       "  'print(ranger)',\n",
       "  'for x in ranger:\\n    print(x)',\n",
       "  'def my_range(fierst=0, last=10, step=1):\\n    number = fierst\\n    while number < last:\\n        yield number\\n        number += step',\n",
       "  'ranger = my_range(1, 10)',\n",
       "  'ranger',\n",
       "  'print(ranger)',\n",
       "  'for x in ranger:\\n    print(x)',\n",
       "  \"def document_it(func):\\n    def new_function(*args, **kwargs):\\n        print('Running function:', func.__name__)\\n        print('Positional arguments:', args)\\n        print('Keyword arguments:', kwargs)\\n        result = func(*args, **kwargs)\\n        print('Result:', result)\\n        return result\\n    return new_function\",\n",
       "  'def add_ints(a, b):\\n    return a + b',\n",
       "  'add_ints(3, 5)',\n",
       "  'cooler_add_ints = document_it(add_ints) #мануальное присвоение декоратора',\n",
       "  'cooler_add_ints(3, 5)',\n",
       "  '@document_it',\n",
       "  '@document_it\\ndef add_ints(a, b):\\n    return a + b',\n",
       "  'add_ints(3, 5)',\n",
       "  'def square_it(func):\\n    def new_function(*args, **kwargs):\\n        result = func(*args, **kwargs)\\n        return result * result\\n    return new_function',\n",
       "  '@document_it\\n@square_it\\ndef add_ints(a, b):\\n    return a + b',\n",
       "  'add_ints(3, 5)',\n",
       "  '@square_it\\n@document_it\\ndef add_ints(a, b):\\n    return a + b',\n",
       "  'add_ints(3, 5)',\n",
       "  'locals()',\n",
       "  'globals()'],\n",
       " '_ii': 'add_ints(3, 5)',\n",
       " '_iii': '@square_it\\n@document_it\\ndef add_ints(a, b):\\n    return a + b',\n",
       " '_oh': {6: 45,\n",
       "  10: <generator object my_range at 0x000001A5E8D965C8>,\n",
       "  15: <generator object my_range at 0x000001A5E8E3B308>,\n",
       "  20: 8,\n",
       "  22: 8,\n",
       "  25: 8,\n",
       "  28: 64,\n",
       "  30: 64,\n",
       "  31: {...}},\n",
       " 'add_ints': <function __main__.square_it.<locals>.new_function>,\n",
       " 'cooler_add_ints': <function __main__.document_it.<locals>.new_function>,\n",
       " 'document_it': <function __main__.document_it>,\n",
       " 'edit_story': <function __main__.edit_story>,\n",
       " 'enliven': <function __main__.enliven>,\n",
       " 'exit': <IPython.core.autocall.ZMQExitAutocall at 0x1a5e7ce80b8>,\n",
       " 'get_ipython': <bound method InteractiveShell.get_ipython of <ipykernel.zmqshell.ZMQInteractiveShell object at 0x000001A5E7C81C18>>,\n",
       " 'my_range': <function __main__.my_range>,\n",
       " 'quit': <IPython.core.autocall.ZMQExitAutocall at 0x1a5e7ce80b8>,\n",
       " 'ranger': <generator object my_range at 0x000001A5E8E3B308>,\n",
       " 'square_it': <function __main__.square_it>,\n",
       " 'stairs': ['thud', 'meow', 'thud', 'hiss'],\n",
       " 'x': 9}"
      ]
     },
     "execution_count": 32,
     "metadata": {},
     "output_type": "execute_result"
    }
   ],
   "source": [
    "globals()"
   ]
  },
  {
   "cell_type": "code",
   "execution_count": null,
   "metadata": {},
   "outputs": [],
   "source": []
  }
 ],
 "metadata": {
  "kernelspec": {
   "display_name": "Python 3",
   "language": "python",
   "name": "python3"
  },
  "language_info": {
   "codemirror_mode": {
    "name": "ipython",
    "version": 3
   },
   "file_extension": ".py",
   "mimetype": "text/x-python",
   "name": "python",
   "nbconvert_exporter": "python",
   "pygments_lexer": "ipython3",
   "version": "3.6.4"
  }
 },
 "nbformat": 4,
 "nbformat_minor": 2
}
